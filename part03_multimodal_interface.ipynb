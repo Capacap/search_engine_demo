{
 "cells": [
  {
   "cell_type": "code",
   "execution_count": 3,
   "id": "d0e33b7c",
   "metadata": {},
   "outputs": [
    {
     "name": "stdout",
     "output_type": "stream",
     "text": [
      "* Running on local URL:  http://127.0.0.1:7861\n",
      "* To create a public link, set `share=True` in `launch()`.\n"
     ]
    },
    {
     "data": {
      "text/html": [
       "<div><iframe src=\"http://127.0.0.1:7861/\" width=\"100%\" height=\"500\" allow=\"autoplay; camera; microphone; clipboard-read; clipboard-write;\" frameborder=\"0\" allowfullscreen></iframe></div>"
      ],
      "text/plain": [
       "<IPython.core.display.HTML object>"
      ]
     },
     "metadata": {},
     "output_type": "display_data"
    },
    {
     "data": {
      "text/plain": []
     },
     "execution_count": 3,
     "metadata": {},
     "output_type": "execute_result"
    }
   ],
   "source": [
    "import gradio as gr\n",
    "\n",
    "def mock_text_search(query):\n",
    "    return f\"Searching for: '{query}' (mock results)\"\n",
    "\n",
    "def mock_image_search(image):\n",
    "    if image is None:\n",
    "        return \"No image uploaded\"\n",
    "    return \"Image received! (mock analysis)\"\n",
    "\n",
    "# Blocks provide compositional control - your target architecture\n",
    "with gr.Blocks() as multimodal_demo:\n",
    "    gr.Markdown(\"# Multimodal Search Engine\")\n",
    "    gr.Markdown(\"*Exploring dual-directional semantic search*\")\n",
    "    \n",
    "    with gr.Tabs():\n",
    "        with gr.TabItem(\"Text → Images\"):\n",
    "            text_input = gr.Textbox(label=\"Search Query\")\n",
    "            text_btn = gr.Button(\"Search\")\n",
    "            text_output = gr.Textbox(label=\"Results (Mock)\")\n",
    "            \n",
    "        with gr.TabItem(\"Image → Text\"):\n",
    "            image_input = gr.Image(label=\"Upload Image\", type=\"pil\")\n",
    "            image_btn = gr.Button(\"Analyze\")\n",
    "            image_output = gr.Textbox(label=\"Analysis (Mock)\")\n",
    "    \n",
    "    # Event bindings - the functional wiring\n",
    "    text_btn.click(fn=mock_text_search, inputs=text_input, outputs=text_output)\n",
    "    image_btn.click(fn=mock_image_search, inputs=image_input, outputs=image_output)\n",
    "\n",
    "multimodal_demo.launch(inline=True)"
   ]
  }
 ],
 "metadata": {
  "kernelspec": {
   "display_name": "venv",
   "language": "python",
   "name": "python3"
  },
  "language_info": {
   "codemirror_mode": {
    "name": "ipython",
    "version": 3
   },
   "file_extension": ".py",
   "mimetype": "text/x-python",
   "name": "python",
   "nbconvert_exporter": "python",
   "pygments_lexer": "ipython3",
   "version": "3.13.3"
  }
 },
 "nbformat": 4,
 "nbformat_minor": 5
}
